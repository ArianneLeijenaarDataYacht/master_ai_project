{
 "cells": [
  {
   "cell_type": "code",
   "execution_count": 1,
   "metadata": {},
   "outputs": [],
   "source": [
    "# prepare data for lstm\n",
    "from pandas import read_pickle\n",
    "from math import sqrt\n",
    "from numpy import concatenate\n",
    "from matplotlib import pyplot\n",
    "from pandas import read_csv\n",
    "from pandas import DataFrame\n",
    "from pandas import concat\n",
    "from sklearn.preprocessing import MinMaxScaler\n",
    "from sklearn.preprocessing import LabelEncoder\n",
    "from sklearn.metrics import mean_squared_error\n",
    "from tensorflow.keras.models import Sequential\n",
    "from tensorflow.keras.layers import Dense\n",
    "from tensorflow.keras.layers import LSTM\n",
    "import numpy as np\n",
    "\n",
    "import matplotlib.pyplot as plt\n"
   ]
  },
  {
   "cell_type": "code",
   "execution_count": 8,
   "metadata": {},
   "outputs": [],
   "source": [
    "def series_to_supervised(data, n_in=1, dropna=True):\n",
    "    \"\"\" Frame a time series as a supervised learning dataset.\n",
    "    Arguments:\n",
    "        Data: Sequence of oberservation as a list or NumPy array.\n",
    "        n_in: Number of lag oberservation as input (X).\n",
    "        n_out: Number of observations as output(y).\n",
    "        dropna: Boolean whether or not to drop rows with NaN values.\n",
    "    Returns:\n",
    "        Pandas DataFrame of series frames for supervised learning.\n",
    "    \"\"\"\n",
    "\n",
    "    n_vars = 1 if type(data) is list else data.shape[1]\n",
    "    df = DataFrame(data)\n",
    "    cols, names = list(), list()\n",
    "    # input sequence (t-n, ... t-1)\n",
    "    for i in range(n_in, 0, -1):\n",
    "        cols.append(df.shift(i))\n",
    "        names += [('var%d(t-%d)' % (j+1, i)) for j in range(n_vars)]\n",
    "    # forecast sequence (t, t+1, ... t+n)\n",
    "    for i in range(0, n_out):\n",
    "        cols.append(df.shift(-i))\n",
    "        if i == 0:\n",
    "            names += [('var%d(t)' % (j+1)) for j in range(n_vars)]\n",
    "        else:\n",
    "            names += [('var%d(t+%d)' % (j+1, i)) for j in range(n_vars)]\n",
    "    # put it all together\n",
    "    agg = concat(cols, axis=1)\n",
    "    agg.columns = names\n",
    "    # drop rows with NaN values\n",
    "    if dropnan:\n",
    "        agg.dropna(inplace=True)\n",
    "    return agg"
   ]
  },
  {
   "cell_type": "code",
   "execution_count": 9,
   "metadata": {},
   "outputs": [
    {
     "name": "stdout",
     "output_type": "stream",
     "text": [
      "======================================================================\n",
      "data read\n",
      "                     Neerslag Buikslotermeerplein (radar Hydronet)  BBB riool\n",
      "Tijd                                                                         \n",
      "2016-01-02 09:05:00                                            0.0     -2.526\n",
      "2016-01-02 09:10:00                                            0.0     -2.526\n",
      "2016-01-02 09:15:00                                            0.0     -2.526\n",
      "2016-01-02 09:20:00                                            0.0     -2.526\n",
      "2016-01-02 09:25:00                                            0.0     -2.526\n",
      "2016-01-02 09:30:00                                            0.0     -2.526\n",
      "2016-01-02 09:35:00                                            0.0     -2.526\n",
      "2016-01-02 09:40:00                                            0.0     -2.526\n",
      "2016-01-02 09:45:00                                            0.0     -2.526\n",
      "2016-01-02 09:50:00                                            0.0     -2.526\n",
      "2016-01-02 09:55:00                                            0.0     -2.526\n",
      "2016-01-02 10:00:00                                            0.0     -2.526\n",
      "2016-01-02 10:05:00                                            0.0     -2.526\n",
      "2016-01-02 10:10:00                                            0.0     -2.526\n",
      "2016-01-02 10:15:00                                            0.0     -2.526\n",
      "2016-01-02 10:20:00                                            0.0     -2.526\n",
      "2016-01-02 10:25:00                                            0.0     -2.526\n",
      "2016-01-02 10:30:00                                            0.0     -2.526\n",
      "2016-01-02 10:35:00                                            0.0     -2.526\n",
      "2016-01-02 10:40:00                                            0.0     -2.526\n"
     ]
    }
   ],
   "source": [
    "# load dataset\n",
    "dataset = read_pickle(\"LSTM Pickle.pkl 2016-2020.pkl\")\n",
    "dataset = dataset.drop(\"Neerslag Appelweg (radar Hydronet)\",axis=1)\n",
    "dataset = dataset.drop(\"Overstort 624 (-1,00)\",axis=1)\n",
    "dataset = dataset.drop(\"Overstort 623 (-1,10)\",axis=1)\n",
    "print(\"======================================================================\\ndata read\")\n",
    "print(dataset[0:20])"
   ]
  },
  {
   "cell_type": "code",
   "execution_count": 10,
   "metadata": {},
   "outputs": [
    {
     "name": "stdout",
     "output_type": "stream",
     "text": [
      "======================================================================\n",
      "values as float32\n",
      "[[ 0.    -2.526]\n",
      " [ 0.    -2.526]\n",
      " [ 0.    -2.526]\n",
      " [ 0.    -2.526]\n",
      " [ 0.    -2.526]\n",
      " [ 0.    -2.526]\n",
      " [ 0.    -2.526]\n",
      " [ 0.    -2.526]\n",
      " [ 0.    -2.526]\n",
      " [ 0.    -2.526]\n",
      " [ 0.    -2.526]\n",
      " [ 0.    -2.526]\n",
      " [ 0.    -2.526]\n",
      " [ 0.    -2.526]\n",
      " [ 0.    -2.526]\n",
      " [ 0.    -2.526]\n",
      " [ 0.    -2.526]\n",
      " [ 0.    -2.526]\n",
      " [ 0.    -2.526]\n",
      " [ 0.    -2.526]]\n"
     ]
    }
   ],
   "source": [
    "values = dataset.values\n",
    "# ensure all data is float\n",
    "values = values.astype('float32')\n",
    "print(\"======================================================================\\nvalues as float32\")\n",
    "print(values[0:20])"
   ]
  },
  {
   "cell_type": "code",
   "execution_count": 11,
   "metadata": {
    "scrolled": true
   },
   "outputs": [
    {
     "name": "stdout",
     "output_type": "stream",
     "text": [
      "======================================================================\n",
      "values normalized\n",
      "[[0.         0.02724588]\n",
      " [0.         0.02724588]\n",
      " [0.         0.02724588]\n",
      " [0.         0.02724588]\n",
      " [0.         0.02724588]\n",
      " [0.         0.02724588]\n",
      " [0.         0.02724588]\n",
      " [0.         0.02724588]\n",
      " [0.         0.02724588]\n",
      " [0.         0.02724588]\n",
      " [0.         0.02724588]\n",
      " [0.         0.02724588]\n",
      " [0.         0.02724588]\n",
      " [0.         0.02724588]\n",
      " [0.         0.02724588]\n",
      " [0.         0.02724588]\n",
      " [0.         0.02724588]\n",
      " [0.         0.02724588]\n",
      " [0.         0.02724588]\n",
      " [0.         0.02724588]]\n"
     ]
    }
   ],
   "source": [
    "# normalize features\n",
    "scaler = MinMaxScaler(feature_range=(0, 1))\n",
    "scaled = scaler.fit_transform(values)\n",
    "print(\"======================================================================\\nvalues normalized\")\n",
    "print(scaled[0:20])"
   ]
  },
  {
   "cell_type": "code",
   "execution_count": 12,
   "metadata": {
    "scrolled": true
   },
   "outputs": [
    {
     "ename": "NameError",
     "evalue": "name 'n_out' is not defined",
     "output_type": "error",
     "traceback": [
      "\u001b[0;31m---------------------------------------------------------------------------\u001b[0m",
      "\u001b[0;31mNameError\u001b[0m                                 Traceback (most recent call last)",
      "\u001b[0;32m<ipython-input-12-258fe3057609>\u001b[0m in \u001b[0;36m<module>\u001b[0;34m\u001b[0m\n\u001b[0;32m----> 1\u001b[0;31m \u001b[0mreframed\u001b[0m \u001b[0;34m=\u001b[0m \u001b[0mseries_to_supervised\u001b[0m\u001b[0;34m(\u001b[0m\u001b[0mscaled\u001b[0m\u001b[0;34m,\u001b[0m \u001b[0;36m6\u001b[0m\u001b[0;34m,\u001b[0m \u001b[0;36m1\u001b[0m\u001b[0;34m)\u001b[0m\u001b[0;34m\u001b[0m\u001b[0;34m\u001b[0m\u001b[0m\n\u001b[0m\u001b[1;32m      2\u001b[0m \u001b[0mreframed\u001b[0m\u001b[0;34m.\u001b[0m\u001b[0mdrop\u001b[0m\u001b[0;34m(\u001b[0m\u001b[0mreframed\u001b[0m\u001b[0;34m.\u001b[0m\u001b[0mcolumns\u001b[0m\u001b[0;34m[\u001b[0m\u001b[0;34m[\u001b[0m\u001b[0;36m1\u001b[0m\u001b[0;34m,\u001b[0m\u001b[0;36m2\u001b[0m\u001b[0;34m,\u001b[0m\u001b[0;36m3\u001b[0m\u001b[0;34m,\u001b[0m\u001b[0;36m4\u001b[0m\u001b[0;34m,\u001b[0m\u001b[0;36m5\u001b[0m\u001b[0;34m,\u001b[0m\u001b[0;36m6\u001b[0m\u001b[0;34m,\u001b[0m\u001b[0;36m7\u001b[0m\u001b[0;34m,\u001b[0m\u001b[0;36m8\u001b[0m\u001b[0;34m,\u001b[0m\u001b[0;36m9\u001b[0m\u001b[0;34m,\u001b[0m\u001b[0;36m10\u001b[0m\u001b[0;34m,\u001b[0m\u001b[0;36m11\u001b[0m\u001b[0;34m,\u001b[0m\u001b[0;36m12\u001b[0m\u001b[0;34m]\u001b[0m\u001b[0;34m]\u001b[0m\u001b[0;34m,\u001b[0m \u001b[0maxis\u001b[0m\u001b[0;34m=\u001b[0m\u001b[0;36m1\u001b[0m\u001b[0;34m,\u001b[0m \u001b[0minplace\u001b[0m\u001b[0;34m=\u001b[0m\u001b[0;32mTrue\u001b[0m\u001b[0;34m)\u001b[0m\u001b[0;34m\u001b[0m\u001b[0;34m\u001b[0m\u001b[0m\n\u001b[1;32m      3\u001b[0m \u001b[0mprint\u001b[0m\u001b[0;34m(\u001b[0m\u001b[0;34m\"======================================================================\\nvalues reframed\"\u001b[0m\u001b[0;34m)\u001b[0m\u001b[0;34m\u001b[0m\u001b[0;34m\u001b[0m\u001b[0m\n\u001b[1;32m      4\u001b[0m \u001b[0mprint\u001b[0m\u001b[0;34m(\u001b[0m\u001b[0mreframed\u001b[0m\u001b[0;34m[\u001b[0m\u001b[0;36m0\u001b[0m\u001b[0;34m:\u001b[0m\u001b[0;36m20\u001b[0m\u001b[0;34m]\u001b[0m\u001b[0;34m)\u001b[0m\u001b[0;34m\u001b[0m\u001b[0;34m\u001b[0m\u001b[0m\n",
      "\u001b[0;32m<ipython-input-8-eaf9ae47bca9>\u001b[0m in \u001b[0;36mseries_to_supervised\u001b[0;34m(data, n_in, dropna)\u001b[0m\n\u001b[1;32m     18\u001b[0m         \u001b[0mnames\u001b[0m \u001b[0;34m+=\u001b[0m \u001b[0;34m[\u001b[0m\u001b[0;34m(\u001b[0m\u001b[0;34m'var%d(t-%d)'\u001b[0m \u001b[0;34m%\u001b[0m \u001b[0;34m(\u001b[0m\u001b[0mj\u001b[0m\u001b[0;34m+\u001b[0m\u001b[0;36m1\u001b[0m\u001b[0;34m,\u001b[0m \u001b[0mi\u001b[0m\u001b[0;34m)\u001b[0m\u001b[0;34m)\u001b[0m \u001b[0;32mfor\u001b[0m \u001b[0mj\u001b[0m \u001b[0;32min\u001b[0m \u001b[0mrange\u001b[0m\u001b[0;34m(\u001b[0m\u001b[0mn_vars\u001b[0m\u001b[0;34m)\u001b[0m\u001b[0;34m]\u001b[0m\u001b[0;34m\u001b[0m\u001b[0;34m\u001b[0m\u001b[0m\n\u001b[1;32m     19\u001b[0m     \u001b[0;31m# forecast sequence (t, t+1, ... t+n)\u001b[0m\u001b[0;34m\u001b[0m\u001b[0;34m\u001b[0m\u001b[0;34m\u001b[0m\u001b[0m\n\u001b[0;32m---> 20\u001b[0;31m     \u001b[0;32mfor\u001b[0m \u001b[0mi\u001b[0m \u001b[0;32min\u001b[0m \u001b[0mrange\u001b[0m\u001b[0;34m(\u001b[0m\u001b[0;36m0\u001b[0m\u001b[0;34m,\u001b[0m \u001b[0mn_out\u001b[0m\u001b[0;34m)\u001b[0m\u001b[0;34m:\u001b[0m\u001b[0;34m\u001b[0m\u001b[0;34m\u001b[0m\u001b[0m\n\u001b[0m\u001b[1;32m     21\u001b[0m         \u001b[0mcols\u001b[0m\u001b[0;34m.\u001b[0m\u001b[0mappend\u001b[0m\u001b[0;34m(\u001b[0m\u001b[0mdf\u001b[0m\u001b[0;34m.\u001b[0m\u001b[0mshift\u001b[0m\u001b[0;34m(\u001b[0m\u001b[0;34m-\u001b[0m\u001b[0mi\u001b[0m\u001b[0;34m)\u001b[0m\u001b[0;34m)\u001b[0m\u001b[0;34m\u001b[0m\u001b[0;34m\u001b[0m\u001b[0m\n\u001b[1;32m     22\u001b[0m         \u001b[0;32mif\u001b[0m \u001b[0mi\u001b[0m \u001b[0;34m==\u001b[0m \u001b[0;36m0\u001b[0m\u001b[0;34m:\u001b[0m\u001b[0;34m\u001b[0m\u001b[0;34m\u001b[0m\u001b[0m\n",
      "\u001b[0;31mNameError\u001b[0m: name 'n_out' is not defined"
     ]
    }
   ],
   "source": [
    "reframed = series_to_supervised(scaled, 6, 1)\n",
    "reframed.drop(reframed.columns[[1,2,3,4,5,6,7,8,9,10,11,12]], axis=1, inplace=True)\n",
    "print(\"======================================================================\\nvalues reframed\")\n",
    "print(reframed[0:20])"
   ]
  },
  {
   "cell_type": "code",
   "execution_count": 18,
   "metadata": {},
   "outputs": [
    {
     "name": "stdout",
     "output_type": "stream",
     "text": [
      "======================================================================\\split train data:\n",
      "[[ 0.    -2.526]\n",
      " [ 0.    -2.526]\n",
      " [ 0.    -2.526]\n",
      " [ 0.    -2.526]\n",
      " [ 0.    -2.526]\n",
      " [ 0.    -2.526]\n",
      " [ 0.    -2.526]\n",
      " [ 0.    -2.526]\n",
      " [ 0.    -2.526]\n",
      " [ 0.    -2.526]\n",
      " [ 0.    -2.526]\n",
      " [ 0.    -2.526]\n",
      " [ 0.    -2.526]\n",
      " [ 0.    -2.526]\n",
      " [ 0.    -2.526]\n",
      " [ 0.    -2.526]\n",
      " [ 0.    -2.526]\n",
      " [ 0.    -2.526]\n",
      " [ 0.    -2.526]\n",
      " [ 0.    -2.526]]\n"
     ]
    }
   ],
   "source": [
    "# split into train and test sets\n",
    "n_train_hours = 365 * 24 * 4 * 12\n",
    "train = values[:n_train_hours, :]\n",
    "test = values[n_train_hours:, :]\n",
    "print(\"======================================================================\\split train data:\")\n",
    "print(train[0:20])"
   ]
  },
  {
   "cell_type": "code",
   "execution_count": 19,
   "metadata": {},
   "outputs": [],
   "source": [
    "# split into input and outputs\n",
    "train_X, train_y = train[:, :-1], train[:, -1]\n",
    "test_X, test_y = test[:, :-1], test[:, -1]"
   ]
  },
  {
   "cell_type": "code",
   "execution_count": 20,
   "metadata": {},
   "outputs": [
    {
     "name": "stdout",
     "output_type": "stream",
     "text": [
      "======================================================================\n",
      "train X:\n",
      "[[0.]\n",
      " [0.]\n",
      " [0.]\n",
      " [0.]\n",
      " [0.]\n",
      " [0.]\n",
      " [0.]\n",
      " [0.]\n",
      " [0.]\n",
      " [0.]\n",
      " [0.]\n",
      " [0.]\n",
      " [0.]\n",
      " [0.]\n",
      " [0.]\n",
      " [0.]\n",
      " [0.]\n",
      " [0.]\n",
      " [0.]\n",
      " [0.]]\n"
     ]
    }
   ],
   "source": [
    "print(\"======================================================================\\ntrain X:\")\n",
    "print(train_X[0:20])"
   ]
  },
  {
   "cell_type": "code",
   "execution_count": 8,
   "metadata": {},
   "outputs": [
    {
     "name": "stdout",
     "output_type": "stream",
     "text": [
      "======================================================================\n",
      "train Y:\n",
      "[-2.526 -2.526 -2.526 -2.526 -2.526 -2.526 -2.526 -2.526 -2.526 -2.526\n",
      " -2.526 -2.526 -2.526 -2.526 -2.526 -2.526 -2.526 -2.526 -2.526 -2.526]\n"
     ]
    }
   ],
   "source": [
    "print(\"======================================================================\\ntrain Y:\")\n",
    "print(train_y[0:20])"
   ]
  },
  {
   "cell_type": "code",
   "execution_count": 9,
   "metadata": {},
   "outputs": [
    {
     "data": {
      "image/png": "[encoded data removed]",
      "text/plain": [
       "<Figure size 432x288 with 1 Axes>"
      ]
     },
     "metadata": {
      "needs_background": "light"
     },
     "output_type": "display_data"
    }
   ],
   "source": [
    "plt.plot(train_X,alpha=1)\n",
    "plt.plot(train_y,alpha=0.7)\n",
    "plt.show()"
   ]
  },
  {
   "cell_type": "code",
   "execution_count": 10,
   "metadata": {},
   "outputs": [],
   "source": [
    "# reshape input to be 3D [samples, timesteps, features]\n",
    "train_X = train_X.reshape((train_X.shape[0], 1, train_X.shape[1]))\n",
    "test_X = test_X.reshape((test_X.shape[0], 1, test_X.shape[1]))"
   ]
  },
  {
   "cell_type": "code",
   "execution_count": 11,
   "metadata": {},
   "outputs": [
    {
     "name": "stdout",
     "output_type": "stream",
     "text": [
      "Epoch 1/50\n",
      "421/421 - 3s - loss: 1.8139 - val_loss: 0.0119\n",
      "Epoch 2/50\n",
      "421/421 - 1s - loss: 0.0069 - val_loss: 0.0089\n",
      "Epoch 3/50\n",
      "421/421 - 1s - loss: 0.0061 - val_loss: 0.0088\n",
      "Epoch 4/50\n",
      "421/421 - 1s - loss: 0.0061 - val_loss: 0.0088\n",
      "Epoch 5/50\n",
      "421/421 - 1s - loss: 0.0061 - val_loss: 0.0089\n",
      "Epoch 6/50\n",
      "421/421 - 1s - loss: 0.0061 - val_loss: 0.0089\n",
      "Epoch 7/50\n",
      "421/421 - 1s - loss: 0.0061 - val_loss: 0.0090\n",
      "Epoch 8/50\n",
      "421/421 - 1s - loss: 0.0061 - val_loss: 0.0090\n",
      "Epoch 9/50\n",
      "421/421 - 1s - loss: 0.0062 - val_loss: 0.0091\n",
      "Epoch 10/50\n",
      "421/421 - 1s - loss: 0.0062 - val_loss: 0.0091\n",
      "Epoch 11/50\n",
      "421/421 - 1s - loss: 0.0062 - val_loss: 0.0090\n",
      "Epoch 12/50\n",
      "421/421 - 1s - loss: 0.0062 - val_loss: 0.0089\n",
      "Epoch 13/50\n",
      "421/421 - 1s - loss: 0.0063 - val_loss: 0.0089\n",
      "Epoch 14/50\n",
      "421/421 - 1s - loss: 0.0063 - val_loss: 0.0089\n",
      "Epoch 15/50\n",
      "421/421 - 1s - loss: 0.0063 - val_loss: 0.0088\n",
      "Epoch 16/50\n",
      "421/421 - 1s - loss: 0.0063 - val_loss: 0.0088\n",
      "Epoch 17/50\n",
      "421/421 - 1s - loss: 0.0063 - val_loss: 0.0088\n",
      "Epoch 18/50\n",
      "421/421 - 1s - loss: 0.0063 - val_loss: 0.0089\n",
      "Epoch 19/50\n",
      "421/421 - 1s - loss: 0.0063 - val_loss: 0.0089\n",
      "Epoch 20/50\n",
      "421/421 - 1s - loss: 0.0063 - val_loss: 0.0089\n",
      "Epoch 21/50\n",
      "421/421 - 1s - loss: 0.0063 - val_loss: 0.0089\n",
      "Epoch 22/50\n",
      "421/421 - 1s - loss: 0.0063 - val_loss: 0.0089\n",
      "Epoch 23/50\n",
      "421/421 - 1s - loss: 0.0063 - val_loss: 0.0089\n",
      "Epoch 24/50\n",
      "421/421 - 1s - loss: 0.0063 - val_loss: 0.0089\n",
      "Epoch 25/50\n",
      "421/421 - 1s - loss: 0.0063 - val_loss: 0.0089\n",
      "Epoch 26/50\n",
      "421/421 - 1s - loss: 0.0063 - val_loss: 0.0089\n",
      "Epoch 27/50\n",
      "421/421 - 1s - loss: 0.0063 - val_loss: 0.0089\n",
      "Epoch 28/50\n",
      "421/421 - 1s - loss: 0.0063 - val_loss: 0.0089\n",
      "Epoch 29/50\n",
      "421/421 - 1s - loss: 0.0063 - val_loss: 0.0089\n",
      "Epoch 30/50\n",
      "421/421 - 1s - loss: 0.0063 - val_loss: 0.0089\n",
      "Epoch 31/50\n",
      "421/421 - 1s - loss: 0.0063 - val_loss: 0.0089\n",
      "Epoch 32/50\n",
      "421/421 - 1s - loss: 0.0063 - val_loss: 0.0089\n",
      "Epoch 33/50\n",
      "421/421 - 1s - loss: 0.0063 - val_loss: 0.0089\n",
      "Epoch 34/50\n",
      "421/421 - 1s - loss: 0.0063 - val_loss: 0.0089\n",
      "Epoch 35/50\n",
      "421/421 - 1s - loss: 0.0063 - val_loss: 0.0089\n",
      "Epoch 36/50\n",
      "421/421 - 1s - loss: 0.0063 - val_loss: 0.0089\n",
      "Epoch 37/50\n",
      "421/421 - 1s - loss: 0.0063 - val_loss: 0.0089\n",
      "Epoch 38/50\n",
      "421/421 - 1s - loss: 0.0063 - val_loss: 0.0089\n",
      "Epoch 39/50\n",
      "421/421 - 1s - loss: 0.0063 - val_loss: 0.0089\n",
      "Epoch 40/50\n",
      "421/421 - 1s - loss: 0.0063 - val_loss: 0.0089\n",
      "Epoch 41/50\n",
      "421/421 - 1s - loss: 0.0063 - val_loss: 0.0089\n",
      "Epoch 42/50\n",
      "421/421 - 1s - loss: 0.0063 - val_loss: 0.0089\n",
      "Epoch 43/50\n",
      "421/421 - 1s - loss: 0.0063 - val_loss: 0.0089\n",
      "Epoch 44/50\n",
      "421/421 - 1s - loss: 0.0063 - val_loss: 0.0089\n",
      "Epoch 45/50\n",
      "421/421 - 1s - loss: 0.0063 - val_loss: 0.0089\n",
      "Epoch 46/50\n",
      "421/421 - 1s - loss: 0.0063 - val_loss: 0.0089\n",
      "Epoch 47/50\n",
      "421/421 - 1s - loss: 0.0063 - val_loss: 0.0089\n",
      "Epoch 48/50\n",
      "421/421 - 1s - loss: 0.0063 - val_loss: 0.0089\n",
      "Epoch 49/50\n",
      "421/421 - 1s - loss: 0.0063 - val_loss: 0.0089\n",
      "Epoch 50/50\n",
      "421/421 - 1s - loss: 0.0063 - val_loss: 0.0089\n"
     ]
    },
    {
     "data": {
      "image/png": "[encoded data removed]",
      "text/plain": [
       "<Figure size 432x288 with 1 Axes>"
      ]
     },
     "metadata": {
      "needs_background": "light"
     },
     "output_type": "display_data"
    }
   ],
   "source": [
    "# design network\n",
    "model = Sequential()\n",
    "model.add(LSTM(50, input_shape=(train_X.shape[1], train_X.shape[2])))\n",
    "model.add(Dense(1))\n",
    "model.compile(loss='mse', optimizer='adam')\n",
    "# fit network\n",
    "history = model.fit(train_X, train_y, epochs=50, batch_size=1000, validation_data=(test_X, test_y), verbose=2, shuffle=False)\n",
    "# plot history\n",
    "pyplot.plot(history.history['loss'], label='train')\n",
    "pyplot.plot(history.history['val_loss'], label='test')\n",
    "pyplot.legend()\n",
    "pyplot.show()"
   ]
  },
  {
   "cell_type": "code",
   "execution_count": 12,
   "metadata": {},
   "outputs": [
    {
     "ename": "NameError",
     "evalue": "name 'scaler' is not defined",
     "output_type": "error",
     "traceback": [
      "\u001b[0;31m---------------------------------------------------------------------------\u001b[0m",
      "\u001b[0;31mNameError\u001b[0m                                 Traceback (most recent call last)",
      "\u001b[0;32m<ipython-input-12-2243fa13119e>\u001b[0m in \u001b[0;36m<module>\u001b[0;34m\u001b[0m\n\u001b[1;32m      4\u001b[0m \u001b[0;31m# invert scaling for forecast\u001b[0m\u001b[0;34m\u001b[0m\u001b[0;34m\u001b[0m\u001b[0;34m\u001b[0m\u001b[0m\n\u001b[1;32m      5\u001b[0m \u001b[0minv_yhat\u001b[0m \u001b[0;34m=\u001b[0m \u001b[0mconcatenate\u001b[0m\u001b[0;34m(\u001b[0m\u001b[0;34m(\u001b[0m\u001b[0myhat\u001b[0m\u001b[0;34m,\u001b[0m \u001b[0mtest_X\u001b[0m\u001b[0;34m[\u001b[0m\u001b[0;34m:\u001b[0m\u001b[0;34m,\u001b[0m \u001b[0;36m1\u001b[0m\u001b[0;34m:\u001b[0m\u001b[0;34m]\u001b[0m\u001b[0;34m)\u001b[0m\u001b[0;34m,\u001b[0m \u001b[0maxis\u001b[0m\u001b[0;34m=\u001b[0m\u001b[0;36m1\u001b[0m\u001b[0;34m)\u001b[0m\u001b[0;34m\u001b[0m\u001b[0;34m\u001b[0m\u001b[0m\n\u001b[0;32m----> 6\u001b[0;31m \u001b[0minv_yhat\u001b[0m \u001b[0;34m=\u001b[0m \u001b[0mscaler\u001b[0m\u001b[0;34m.\u001b[0m\u001b[0minverse_transform\u001b[0m\u001b[0;34m(\u001b[0m\u001b[0minv_yhat\u001b[0m\u001b[0;34m)\u001b[0m\u001b[0;34m\u001b[0m\u001b[0;34m\u001b[0m\u001b[0m\n\u001b[0m\u001b[1;32m      7\u001b[0m \u001b[0minv_yhat\u001b[0m \u001b[0;34m=\u001b[0m \u001b[0minv_yhat\u001b[0m\u001b[0;34m[\u001b[0m\u001b[0;34m:\u001b[0m\u001b[0;34m,\u001b[0m\u001b[0;36m0\u001b[0m\u001b[0;34m]\u001b[0m\u001b[0;34m\u001b[0m\u001b[0;34m\u001b[0m\u001b[0m\n\u001b[1;32m      8\u001b[0m \u001b[0;31m# invert scaling for actual\u001b[0m\u001b[0;34m\u001b[0m\u001b[0;34m\u001b[0m\u001b[0;34m\u001b[0m\u001b[0m\n",
      "\u001b[0;31mNameError\u001b[0m: name 'scaler' is not defined"
     ]
    }
   ],
   "source": [
    "# make a prediction\n",
    "yhat = model.predict(test_X)\n",
    "test_X = test_X.reshape((test_X.shape[0], test_X.shape[2]))\n",
    "# invert scaling for forecast\n",
    "inv_yhat = concatenate((yhat, test_X[:, 1:]), axis=1)\n",
    "inv_yhat = scaler.inverse_transform(inv_yhat)\n",
    "inv_yhat = inv_yhat[:,0]\n",
    "# invert scaling for actual\n",
    "test_y = test_y.reshape((len(test_y), 1))\n",
    "inv_y = concatenate((test_y, test_X[:, 1:]), axis=1)\n",
    "inv_y = scaler.inverse_transform(inv_y)\n",
    "inv_y = inv_y[:,0]\n",
    "# calculate RMSE\n",
    "rmse = sqrt(mean_squared_error(inv_y, inv_yhat))\n",
    "print('Test RMSE: %.3f' % rmse)"
   ]
  }
 ],
 "metadata": {
  "kernelspec": {
   "display_name": "Python 3",
   "language": "python",
   "name": "python3"
  },
  "language_info": {
   "codemirror_mode": {
    "name": "ipython",
    "version": 3
   },
   "file_extension": ".py",
   "mimetype": "text/x-python",
   "name": "python",
   "nbconvert_exporter": "python",
   "pygments_lexer": "ipython3",
   "version": "3.8.5"
  }
 },
 "nbformat": 4,
 "nbformat_minor": 4
}
