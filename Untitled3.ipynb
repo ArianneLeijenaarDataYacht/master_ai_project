{
 "cells": [
  {
   "cell_type": "code",
   "execution_count": 1,
   "metadata": {},
   "outputs": [],
   "source": [
    "# prepare data for lstm\n",
    "from pandas import read_pickle\n",
    "from math import sqrt\n",
    "from numpy import concatenate\n",
    "from matplotlib import pyplot\n",
    "from pandas import read_csv\n",
    "from pandas import DataFrame\n",
    "from pandas import concat\n",
    "from sklearn.preprocessing import MinMaxScaler\n",
    "from sklearn.preprocessing import LabelEncoder\n",
    "from sklearn.metrics import mean_squared_error\n",
    "from tensorflow.keras.models import Sequential\n",
    "from tensorflow.keras.layers import Dense\n",
    "from tensorflow.keras.layers import LSTM\n",
    "import numpy as np"
   ]
  },
  {
   "cell_type": "code",
   "execution_count": 2,
   "metadata": {},
   "outputs": [],
   "source": [
    "#based on https://machinelearningmastery.com/multivariate-time-series-forecasting-lstms-keras/\n",
    "def series_to_supervised(data, n_in=1, n_out=1, dropnan=True):\n",
    "    \"\"\"\n",
    "    Frame a time series as a supervised learning dataset.\n",
    "    Arguments:\n",
    "        data: Sequence of observations as a list or NumPy array.\n",
    "        n_in: Number of lag observations as input (X).\n",
    "        n_out: Number of observations as output (y).\n",
    "        dropnan: Boolean whether or not to drop rows with NaN values.\n",
    "    Returns:\n",
    "        Pandas DataFrame of series framed for supervised learning.\n",
    "    \"\"\"\n",
    "    n_vars = 1 if type(data) is list else data.shape[1]\n",
    "    df = DataFrame(data)\n",
    "    cols, names = list(), list()\n",
    "    # input sequence (t-n, ... t-1)\n",
    "    for i in range(n_in, 0, -1):\n",
    "        cols.append(df.shift(i))\n",
    "        names += [('var%d(t-%d)' % (j+1, i)) for j in range(n_vars)]\n",
    "    # forecast sequence (t, t+1, ... t+n)\n",
    "    for i in range(0, n_out):\n",
    "        cols.append(df.shift(-i))\n",
    "        if i == 0:\n",
    "            names += [('var%d(t)' % (j+1)) for j in range(n_vars)]\n",
    "        else:\n",
    "            names += [('var%d(t+%d)' % (j+1, i)) for j in range(n_vars)]\n",
    "    # put it all together\n",
    "    agg = concat(cols, axis=1)\n",
    "    agg.columns = names\n",
    "    # drop rows with NaN values\n",
    "    if dropnan:\n",
    "        agg.dropna(inplace=True)\n",
    "    return agg\n"
   ]
  },
  {
   "cell_type": "code",
   "execution_count": 4,
   "metadata": {},
   "outputs": [
    {
     "name": "stdout",
     "output_type": "stream",
     "text": [
      "======================================================================\n",
      "data read\n",
      "                 Neerslag Buikslotermeerplein (radar Hydronet)  BBB riool\n",
      "           Tijd                                                          \n",
      "2016-01-02 9                                              0.00     -2.526\n",
      "           10                                             0.00     -2.526\n",
      "           11                                             0.00     -2.526\n",
      "           12                                             0.00     -2.526\n",
      "           13                                             0.00     -2.526\n",
      "           14                                             0.00     -2.526\n",
      "           15                                             0.00     -2.526\n",
      "           16                                             0.24     -2.526\n",
      "           17                                             0.21     -2.526\n",
      "           18                                             0.16     -2.526\n",
      "           19                                             0.00     -2.526\n",
      "           20                                             0.05     -2.526\n",
      "           21                                             0.18     -2.526\n",
      "           22                                             0.22     -2.526\n",
      "           23                                             0.00     -2.526\n",
      "2016-01-03 0                                              0.11     -2.526\n",
      "           1                                              0.18     -2.526\n",
      "           2                                              0.06     -2.526\n",
      "           3                                              0.00     -2.526\n",
      "           4                                              0.00     -2.526\n"
     ]
    }
   ],
   "source": [
    "# load dataset\n",
    "dataset = read_pickle(\"TRAIN LSTM Pickle Hourly.pkl\")\n",
    "dataset = dataset.drop(\"Neerslag Appelweg (radar Hydronet)\",axis=1)\n",
    "dataset = dataset.drop(\"Overstort 624 (-1,00)\",axis=1)\n",
    "dataset = dataset.drop(\"Overstort 623 (-1,10)\",axis=1)\n",
    "print(\"======================================================================\\ndata read\")\n",
    "print(dataset[0:20])"
   ]
  },
  {
   "cell_type": "code",
   "execution_count": 7,
   "metadata": {},
   "outputs": [
    {
     "data": {
      "image/png": "[encoded data removed]",
      "text/plain": [
       "<Figure size 432x288 with 1 Axes>"
      ]
     },
     "metadata": {
      "needs_background": "light"
     },
     "output_type": "display_data"
    }
   ],
   "source": [
    "# add a column with classifier in the 15 minutes if level>-2.48 means we are having an ovs \n",
    "plt = dataset.plot(y=\"BBB riool\",kind='line')\n",
    "pyplot.show()"
   ]
  },
  {
   "cell_type": "code",
   "execution_count": 8,
   "metadata": {},
   "outputs": [],
   "source": [
    "levels = dataset['BBB riool'].tolist()\n",
    "dataset['BBB riool'] = [1 if level>-2.48 else 0 for level in levels]"
   ]
  },
  {
   "cell_type": "code",
   "execution_count": 9,
   "metadata": {},
   "outputs": [
    {
     "name": "stdout",
     "output_type": "stream",
     "text": [
      "======================================================================\\level classificated as 1 and 0\n",
      "                 Neerslag Buikslotermeerplein (radar Hydronet)  BBB riool\n",
      "           Tijd                                                          \n",
      "2016-01-02 9                                              0.00          0\n",
      "           10                                             0.00          0\n",
      "           11                                             0.00          0\n",
      "           12                                             0.00          0\n",
      "           13                                             0.00          0\n",
      "           14                                             0.00          0\n",
      "           15                                             0.00          0\n",
      "           16                                             0.24          0\n",
      "           17                                             0.21          0\n",
      "           18                                             0.16          0\n",
      "           19                                             0.00          0\n",
      "           20                                             0.05          0\n",
      "           21                                             0.18          0\n",
      "           22                                             0.22          0\n",
      "           23                                             0.00          0\n",
      "2016-01-03 0                                              0.11          0\n",
      "           1                                              0.18          0\n",
      "           2                                              0.06          0\n",
      "           3                                              0.00          0\n",
      "           4                                              0.00          0\n"
     ]
    }
   ],
   "source": [
    "print(\"======================================================================\\level classificated as 1 and 0\")\n",
    "print(dataset[0:20])"
   ]
  },
  {
   "cell_type": "code",
   "execution_count": 11,
   "metadata": {},
   "outputs": [],
   "source": [
    "#plt = dataset.plot(y=\"BBB riool classified\",kind='line')\n",
    "#pyplot.show()"
   ]
  },
  {
   "cell_type": "code",
   "execution_count": 12,
   "metadata": {},
   "outputs": [
    {
     "name": "stdout",
     "output_type": "stream",
     "text": [
      "======================================================================\n",
      "values as float32\n",
      "[[0.   0.  ]\n",
      " [0.   0.  ]\n",
      " [0.   0.  ]\n",
      " [0.   0.  ]\n",
      " [0.   0.  ]\n",
      " [0.   0.  ]\n",
      " [0.   0.  ]\n",
      " [0.24 0.  ]\n",
      " [0.21 0.  ]\n",
      " [0.16 0.  ]\n",
      " [0.   0.  ]\n",
      " [0.05 0.  ]\n",
      " [0.18 0.  ]\n",
      " [0.22 0.  ]\n",
      " [0.   0.  ]\n",
      " [0.11 0.  ]\n",
      " [0.18 0.  ]\n",
      " [0.06 0.  ]\n",
      " [0.   0.  ]\n",
      " [0.   0.  ]]\n"
     ]
    }
   ],
   "source": [
    "values = dataset.values\n",
    "# ensure all data is float\n",
    "values = values.astype('float32')\n",
    "print(\"======================================================================\\nvalues as float32\")\n",
    "print(values[0:20])"
   ]
  },
  {
   "cell_type": "code",
   "execution_count": 13,
   "metadata": {},
   "outputs": [
    {
     "name": "stdout",
     "output_type": "stream",
     "text": [
      "======================================================================\n",
      "values normalized\n",
      "[[0.         0.        ]\n",
      " [0.         0.        ]\n",
      " [0.         0.        ]\n",
      " [0.         0.        ]\n",
      " [0.         0.        ]\n",
      " [0.         0.        ]\n",
      " [0.         0.        ]\n",
      " [0.07384615 0.        ]\n",
      " [0.06461538 0.        ]\n",
      " [0.04923077 0.        ]\n",
      " [0.         0.        ]\n",
      " [0.01538462 0.        ]\n",
      " [0.05538462 0.        ]\n",
      " [0.06769231 0.        ]\n",
      " [0.         0.        ]\n",
      " [0.03384615 0.        ]\n",
      " [0.05538462 0.        ]\n",
      " [0.01846154 0.        ]\n",
      " [0.         0.        ]\n",
      " [0.         0.        ]]\n"
     ]
    }
   ],
   "source": [
    "# normalize features\n",
    "scaler = MinMaxScaler(feature_range=(0, 1))\n",
    "scaled = scaler.fit_transform(values)\n",
    "print(\"======================================================================\\nvalues normalized\")\n",
    "print(scaled[0:20])"
   ]
  },
  {
   "cell_type": "code",
   "execution_count": 14,
   "metadata": {},
   "outputs": [
    {
     "name": "stdout",
     "output_type": "stream",
     "text": [
      "======================================================================\n",
      "values reframed\n",
      "    var1(t-6)  var2(t)\n",
      "6    0.000000      0.0\n",
      "7    0.000000      0.0\n",
      "8    0.000000      0.0\n",
      "9    0.000000      0.0\n",
      "10   0.000000      0.0\n",
      "11   0.000000      0.0\n",
      "12   0.000000      0.0\n",
      "13   0.073846      0.0\n",
      "14   0.064615      0.0\n",
      "15   0.049231      0.0\n",
      "16   0.000000      0.0\n",
      "17   0.015385      0.0\n",
      "18   0.055385      0.0\n",
      "19   0.067692      0.0\n",
      "20   0.000000      0.0\n",
      "21   0.033846      0.0\n",
      "22   0.055385      0.0\n",
      "23   0.018462      0.0\n",
      "24   0.000000      0.0\n",
      "25   0.000000      0.0\n"
     ]
    }
   ],
   "source": [
    "reframed = series_to_supervised(scaled, 6, 1)\n",
    "reframed.drop(reframed.columns[[1,2,3,4,5,6,7,8,9,10,11,12]], axis=1, inplace=True)\n",
    "print(\"======================================================================\\nvalues reframed\")\n",
    "print(reframed[0:20])"
   ]
  },
  {
   "cell_type": "code",
   "execution_count": 15,
   "metadata": {},
   "outputs": [
    {
     "name": "stdout",
     "output_type": "stream",
     "text": [
      "======================================================================\\split train data:\n",
      "[[0.         0.        ]\n",
      " [0.         0.        ]\n",
      " [0.         0.        ]\n",
      " [0.         0.        ]\n",
      " [0.         0.        ]\n",
      " [0.         0.        ]\n",
      " [0.         0.        ]\n",
      " [0.07384615 0.        ]\n",
      " [0.06461538 0.        ]\n",
      " [0.04923077 0.        ]\n",
      " [0.         0.        ]\n",
      " [0.01538462 0.        ]\n",
      " [0.05538462 0.        ]\n",
      " [0.06769231 0.        ]\n",
      " [0.         0.        ]\n",
      " [0.03384615 0.        ]\n",
      " [0.05538462 0.        ]\n",
      " [0.01846154 0.        ]\n",
      " [0.         0.        ]\n",
      " [0.         0.        ]]\n"
     ]
    }
   ],
   "source": [
    "# split into train and test sets\n",
    "values = reframed.values\n",
    "n_train_hours = 365 * 24 * 4 * 12\n",
    "train = values[:n_train_hours, :]\n",
    "test = values[n_train_hours:, :]\n",
    "print(\"======================================================================\\split train data:\")\n",
    "print(train[0:20])"
   ]
  },
  {
   "cell_type": "code",
   "execution_count": 16,
   "metadata": {},
   "outputs": [],
   "source": [
    "# split into input and outputs\n",
    "train_X, train_y = train[:, :-1], train[:, -1]\n",
    "test_X, test_y = test[:, :-1], test[:, -1]"
   ]
  },
  {
   "cell_type": "code",
   "execution_count": 17,
   "metadata": {},
   "outputs": [
    {
     "name": "stdout",
     "output_type": "stream",
     "text": [
      "======================================================================\n",
      "train X:\n",
      "[[0.        ]\n",
      " [0.        ]\n",
      " [0.        ]\n",
      " [0.        ]\n",
      " [0.        ]\n",
      " [0.        ]\n",
      " [0.        ]\n",
      " [0.07384615]\n",
      " [0.06461538]\n",
      " [0.04923077]\n",
      " [0.        ]\n",
      " [0.01538462]\n",
      " [0.05538462]\n",
      " [0.06769231]\n",
      " [0.        ]\n",
      " [0.03384615]\n",
      " [0.05538462]\n",
      " [0.01846154]\n",
      " [0.        ]\n",
      " [0.        ]]\n"
     ]
    }
   ],
   "source": [
    "print(\"======================================================================\\ntrain X:\")\n",
    "print(train_X[0:20])"
   ]
  },
  {
   "cell_type": "code",
   "execution_count": 18,
   "metadata": {},
   "outputs": [
    {
     "name": "stdout",
     "output_type": "stream",
     "text": [
      "======================================================================\n",
      "train Y:\n",
      "[0. 0. 0. 0. 0. 0. 0. 0. 0. 0. 0. 0. 0. 0. 0. 0. 0. 0. 0. 0.]\n"
     ]
    }
   ],
   "source": [
    "print(\"======================================================================\\ntrain Y:\")\n",
    "print(train_y[0:20])"
   ]
  },
  {
   "cell_type": "code",
   "execution_count": 20,
   "metadata": {
    "scrolled": true
   },
   "outputs": [
    {
     "ename": "AttributeError",
     "evalue": "'AxesSubplot' object has no attribute 'show'",
     "output_type": "error",
     "traceback": [
      "\u001b[0;31m---------------------------------------------------------------------------\u001b[0m",
      "\u001b[0;31mAttributeError\u001b[0m                            Traceback (most recent call last)",
      "\u001b[0;32m<ipython-input-20-ecbf8d755deb>\u001b[0m in \u001b[0;36m<module>\u001b[0;34m\u001b[0m\n\u001b[1;32m      1\u001b[0m \u001b[0mplt\u001b[0m\u001b[0;34m.\u001b[0m\u001b[0mplot\u001b[0m\u001b[0;34m(\u001b[0m\u001b[0mtrain_X\u001b[0m\u001b[0;34m,\u001b[0m\u001b[0malpha\u001b[0m\u001b[0;34m=\u001b[0m\u001b[0;36m1\u001b[0m\u001b[0;34m)\u001b[0m\u001b[0;34m\u001b[0m\u001b[0;34m\u001b[0m\u001b[0m\n\u001b[1;32m      2\u001b[0m \u001b[0mplt\u001b[0m\u001b[0;34m.\u001b[0m\u001b[0mplot\u001b[0m\u001b[0;34m(\u001b[0m\u001b[0mtrain_y\u001b[0m\u001b[0;34m,\u001b[0m\u001b[0malpha\u001b[0m\u001b[0;34m=\u001b[0m\u001b[0;36m0.7\u001b[0m\u001b[0;34m)\u001b[0m\u001b[0;34m\u001b[0m\u001b[0;34m\u001b[0m\u001b[0m\n\u001b[0;32m----> 3\u001b[0;31m \u001b[0mplt\u001b[0m\u001b[0;34m.\u001b[0m\u001b[0mshow\u001b[0m\u001b[0;34m(\u001b[0m\u001b[0;34m)\u001b[0m\u001b[0;34m\u001b[0m\u001b[0;34m\u001b[0m\u001b[0m\n\u001b[0m",
      "\u001b[0;31mAttributeError\u001b[0m: 'AxesSubplot' object has no attribute 'show'"
     ]
    }
   ],
   "source": [
    "#plt.plot(train_X,alpha=1)\n",
    "#plt.plot(train_y,alpha=0.7)\n",
    "#plt.show()"
   ]
  },
  {
   "cell_type": "code",
   "execution_count": 21,
   "metadata": {},
   "outputs": [],
   "source": [
    "# reshape input to be 3D [samples, timesteps, features]\n",
    "train_X = train_X.reshape((train_X.shape[0], 1, train_X.shape[1]))\n",
    "test_X = test_X.reshape((test_X.shape[0], 1, test_X.shape[1]))"
   ]
  },
  {
   "cell_type": "code",
   "execution_count": 36,
   "metadata": {
    "scrolled": false
   },
   "outputs": [
    {
     "name": "stdout",
     "output_type": "stream",
     "text": [
      "Epoch 1/10\n",
      "35/35 [==============================] - 1s 3ms/step - loss: 0.6879 - accuracy: 0.9154\n",
      "Epoch 2/10\n",
      "35/35 [==============================] - 0s 2ms/step - loss: 0.6643 - accuracy: 0.9719\n",
      "Epoch 3/10\n",
      "35/35 [==============================] - 0s 2ms/step - loss: 0.6402 - accuracy: 0.9715\n",
      "Epoch 4/10\n",
      "35/35 [==============================] - 0s 2ms/step - loss: 0.6157 - accuracy: 0.9706\n",
      "Epoch 5/10\n",
      "35/35 [==============================] - 0s 2ms/step - loss: 0.5906 - accuracy: 0.9703\n",
      "Epoch 6/10\n",
      "35/35 [==============================] - 0s 2ms/step - loss: 0.5646 - accuracy: 0.9717\n",
      "Epoch 7/10\n",
      "35/35 [==============================] - 0s 2ms/step - loss: 0.5391 - accuracy: 0.9711\n",
      "Epoch 8/10\n",
      "35/35 [==============================] - 0s 2ms/step - loss: 0.5137 - accuracy: 0.9700\n",
      "Epoch 9/10\n",
      "35/35 [==============================] - 0s 2ms/step - loss: 0.4887 - accuracy: 0.9693\n",
      "Epoch 10/10\n",
      "35/35 [==============================] - 0s 2ms/step - loss: 0.4620 - accuracy: 0.9725\n"
     ]
    },
    {
     "data": {
      "text/plain": [
       "<tensorflow.python.keras.callbacks.History at 0x7fdf1f3074c0>"
      ]
     },
     "execution_count": 36,
     "metadata": {},
     "output_type": "execute_result"
    }
   ],
   "source": [
    "model = Sequential()\n",
    "model.add(LSTM(1))\n",
    "model.add(Dense(1, activation='sigmoid'))\n",
    "model.compile(loss='binary_crossentropy', optimizer='adam', metrics=['accuracy'])\n",
    "model.fit(train_X, train_y, validation_data=(test_X, test_y), epochs=10, batch_size=1000)"
   ]
  },
  {
   "cell_type": "code",
   "execution_count": 47,
   "metadata": {
    "scrolled": false
   },
   "outputs": [
    {
     "ename": "IndexError",
     "evalue": "list index out of range",
     "output_type": "error",
     "traceback": [
      "\u001b[0;31m---------------------------------------------------------------------------\u001b[0m",
      "\u001b[0;31mIndexError\u001b[0m                                Traceback (most recent call last)",
      "\u001b[0;32m<ipython-input-47-78fdbcd81b1f>\u001b[0m in \u001b[0;36m<module>\u001b[0;34m\u001b[0m\n\u001b[1;32m      1\u001b[0m \u001b[0mscores\u001b[0m \u001b[0;34m=\u001b[0m \u001b[0mmodel\u001b[0m\u001b[0;34m.\u001b[0m\u001b[0mevaluate\u001b[0m\u001b[0;34m(\u001b[0m\u001b[0mtest_X\u001b[0m\u001b[0;34m,\u001b[0m \u001b[0mtest_y\u001b[0m\u001b[0;34m,\u001b[0m \u001b[0mverbose\u001b[0m\u001b[0;34m=\u001b[0m\u001b[0;36m0\u001b[0m\u001b[0;34m)\u001b[0m\u001b[0;34m\u001b[0m\u001b[0;34m\u001b[0m\u001b[0m\n\u001b[0;32m----> 2\u001b[0;31m \u001b[0mprint\u001b[0m\u001b[0;34m(\u001b[0m\u001b[0;34m\"Accuracy: %.2f%%\"\u001b[0m \u001b[0;34m%\u001b[0m \u001b[0;34m(\u001b[0m\u001b[0mscores\u001b[0m\u001b[0;34m[\u001b[0m\u001b[0;36m20\u001b[0m\u001b[0;34m]\u001b[0m\u001b[0;34m*\u001b[0m\u001b[0;36m100\u001b[0m\u001b[0;34m)\u001b[0m\u001b[0;34m)\u001b[0m\u001b[0;34m\u001b[0m\u001b[0;34m\u001b[0m\u001b[0m\n\u001b[0m",
      "\u001b[0;31mIndexError\u001b[0m: list index out of range"
     ]
    }
   ],
   "source": [
    "scores = model.evaluate(test_X, test_y, verbose=0)\n",
    "print(\"Accuracy: %.2f%%\" % (scores[1]*100))"
   ]
  },
  {
   "cell_type": "code",
   "execution_count": null,
   "metadata": {},
   "outputs": [],
   "source": []
  }
 ],
 "metadata": {
  "kernelspec": {
   "display_name": "Python 3",
   "language": "python",
   "name": "python3"
  },
  "language_info": {
   "codemirror_mode": {
    "name": "ipython",
    "version": 3
   },
   "file_extension": ".py",
   "mimetype": "text/x-python",
   "name": "python",
   "nbconvert_exporter": "python",
   "pygments_lexer": "ipython3",
   "version": "3.8.5"
  }
 },
 "nbformat": 4,
 "nbformat_minor": 4
}
