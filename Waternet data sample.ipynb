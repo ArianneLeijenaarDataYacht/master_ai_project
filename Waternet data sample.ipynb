{
 "cells": [
  {
   "cell_type": "markdown",
   "metadata": {},
   "source": [
    "# Dataset sample Waternet "
   ]
  },
  {
   "cell_type": "code",
   "execution_count": 2,
   "metadata": {},
   "outputs": [],
   "source": [
    "# Import the dataset sample file into adataframe and name the dataframe 'waternet'\n",
    "\n",
    "import pandas as pd\n",
    "import numpy as np\n",
    "import datetime as dt\n",
    "\n",
    "waternet = pd.read_csv (\"CSV.csv\", sep=\";\")"
   ]
  },
  {
   "cell_type": "code",
   "execution_count": 3,
   "metadata": {
    "scrolled": true
   },
   "outputs": [
    {
     "name": "stdout",
     "output_type": "stream",
     "text": [
      "Requirement already satisfied: missingno in /Users/alice/opt/anaconda3/lib/python3.7/site-packages (0.4.2)\n",
      "Requirement already satisfied: seaborn in /Users/alice/opt/anaconda3/lib/python3.7/site-packages (from missingno) (0.10.0)\n",
      "Requirement already satisfied: scipy in /Users/alice/opt/anaconda3/lib/python3.7/site-packages (from missingno) (1.4.1)\n",
      "Requirement already satisfied: numpy in /Users/alice/opt/anaconda3/lib/python3.7/site-packages (from missingno) (1.18.1)\n",
      "Requirement already satisfied: matplotlib in /Users/alice/opt/anaconda3/lib/python3.7/site-packages (from missingno) (3.1.3)\n",
      "Requirement already satisfied: pandas>=0.22.0 in /Users/alice/opt/anaconda3/lib/python3.7/site-packages (from seaborn->missingno) (1.0.1)\n",
      "Requirement already satisfied: cycler>=0.10 in /Users/alice/opt/anaconda3/lib/python3.7/site-packages (from matplotlib->missingno) (0.10.0)\n",
      "Requirement already satisfied: kiwisolver>=1.0.1 in /Users/alice/opt/anaconda3/lib/python3.7/site-packages (from matplotlib->missingno) (1.1.0)\n",
      "Requirement already satisfied: pyparsing!=2.0.4,!=2.1.2,!=2.1.6,>=2.0.1 in /Users/alice/opt/anaconda3/lib/python3.7/site-packages (from matplotlib->missingno) (2.4.6)\n",
      "Requirement already satisfied: python-dateutil>=2.1 in /Users/alice/opt/anaconda3/lib/python3.7/site-packages (from matplotlib->missingno) (2.8.1)\n",
      "Requirement already satisfied: pytz>=2017.2 in /Users/alice/opt/anaconda3/lib/python3.7/site-packages (from pandas>=0.22.0->seaborn->missingno) (2019.3)\n",
      "Requirement already satisfied: six in /Users/alice/opt/anaconda3/lib/python3.7/site-packages (from cycler>=0.10->matplotlib->missingno) (1.14.0)\n",
      "Requirement already satisfied: setuptools in /Users/alice/opt/anaconda3/lib/python3.7/site-packages (from kiwisolver>=1.0.1->matplotlib->missingno) (46.0.0.post20200309)\n",
      "Note: you may need to restart the kernel to use updated packages.\n"
     ]
    }
   ],
   "source": [
    "# This is all okay, but...\n",
    "pip install missingno"
   ]
  },
  {
   "cell_type": "code",
   "execution_count": null,
   "metadata": {},
   "outputs": [],
   "source": [
    "# As soon as I import missingno, the kernel dies (see top left corner of screen, saying Trusted now)\n",
    "# There are no search hits on Google on import missingno and dead kernel\n",
    "import missingno"
   ]
  },
  {
   "cell_type": "code",
   "execution_count": 3,
   "metadata": {},
   "outputs": [
    {
     "name": "stdout",
     "output_type": "stream",
     "text": [
      "           Tijd 5018 putniveau gemaal Overstort 623 Overstort 624 BBB riool  \\\n",
      "0           NaN                  mNAP          mNAP          mNAP      mNAP   \n",
      "1  1-01-16 0:00                 -2,63        -1,749        -1,539    -2,526   \n",
      "2  1-01-16 0:05                 -2,64        -1,749        -1,539    -2,526   \n",
      "3  1-01-16 0:10                 -2,66        -1,749        -1,539    -2,526   \n",
      "4  1-01-16 0:15                 -2,61        -1,749        -1,539    -2,526   \n",
      "\n",
      "  BBB bassin begin BBB bassin eind BBB-buffer  \\\n",
      "0             mNAP            mNAP       mNAP   \n",
      "1           -4,166          -3,302     -2,292   \n",
      "2           -4,166          -3,302     -2,292   \n",
      "3           -4,166          -3,302     -2,292   \n",
      "4           -4,166          -3,302     -2,292   \n",
      "\n",
      "  Neerslag Papaverweg (grondstation)  \\\n",
      "0                      mm/ 5 minuten   \n",
      "1                              0,000   \n",
      "2                              0,000   \n",
      "3                              0,000   \n",
      "4                              0,000   \n",
      "\n",
      "  Neerslag Buikslotermeerplein (radar Hydronet)  \n",
      "0                                 mm/ 5 minuten  \n",
      "1                                         0,000  \n",
      "2                                         0,000  \n",
      "3                                         0,000  \n",
      "4                                         0,000  \n"
     ]
    }
   ],
   "source": [
    "# Checking whether the data is loaded succesfully in the dataframe\n",
    "print(waternet[:5])"
   ]
  },
  {
   "cell_type": "markdown",
   "metadata": {},
   "source": [
    "### We see that the data matches the data in Excel! Joepie\n"
   ]
  },
  {
   "cell_type": "markdown",
   "metadata": {},
   "source": [
    "#### In this dataset:\n",
    "\n",
    "The columns display information about:\n",
    "- Tijd = the date and time of the measurements (each row has an interval of 5 min)\n",
    "- 5018 putniveau gemaal (mNAP)= water pomping station 5018 in the middle of the peninsula\n",
    "- Overstort 623 (mNAP) = overflow basin in the north-east of the peninsula\n",
    "- Overstort 624 (mNAP) = overflow basin in the far west of the peninsula\n",
    "- BBB riool (mNAP) = \n",
    "- BBB basin begin (mNAP) =\n",
    "- BBB basin eind (mNAP) = \n",
    "- BBB-buffer (mNAP) = \n",
    "- Neerslag Papaverweg (grondstation) (mm/5 minuten) = \n",
    "- Neerslag Buikslotermeerplein (radar Hydronet) (mm/5 minuten) ="
   ]
  },
  {
   "cell_type": "code",
   "execution_count": 4,
   "metadata": {},
   "outputs": [
    {
     "name": "stdout",
     "output_type": "stream",
     "text": [
      "526177\n"
     ]
    }
   ],
   "source": [
    "print(len(waternet))"
   ]
  },
  {
   "cell_type": "markdown",
   "metadata": {},
   "source": [
    "The dataset has a total of 526177 rows, which is correct, because the number of rows in Excel is 526178 and the first row there begins with index number 1, and in here it is index number 0"
   ]
  },
  {
   "cell_type": "code",
   "execution_count": 5,
   "metadata": {},
   "outputs": [],
   "source": [
    "# Lets clean up the names of the header a little bit, so we can work with it better\n",
    "\n",
    "waternet.rename (columns = {\"Tijd\": \"Time\"}, inplace = True)\n",
    "waternet.rename (columns = {\"5018 putniveau gemaal\": \"water_pomping_station\"}, inplace = True)\n",
    "waternet.rename (columns = {\"Overstort 623\": \"basin_northeast\"}, inplace = True)\n",
    "waternet.rename (columns = {\"Overstort 624\": \"basin_west\"}, inplace = True)\n",
    "waternet.rename (columns = {\"BBB riool\": \"sewer\"}, inplace = True)\n",
    "waternet.rename (columns = {\"BBB bassin begin\": \"last_basin_start\"}, inplace = True)\n",
    "waternet.rename (columns = {\"BBB bassin eind\": \"last_basin_end\"}, inplace = True)\n",
    "waternet.rename (columns = {\"BBB-buffer\": \"last_basin_buffer\"}, inplace = True)\n",
    "waternet.rename (columns = {\"Neerslag Papaverweg (grondstation)\": \"rainfall_groundstation\"}, inplace = True)\n",
    "waternet.rename (columns = {\"Neerslag Buikslotermeerplein (radar Hydronet)\": \"rainfall_radar\"}, inplace = True)"
   ]
  },
  {
   "cell_type": "code",
   "execution_count": 6,
   "metadata": {
    "scrolled": true
   },
   "outputs": [
    {
     "name": "stdout",
     "output_type": "stream",
     "text": [
      "           Time water_pomping_station basin_northeast basin_west   sewer  \\\n",
      "0           NaN                  mNAP            mNAP       mNAP    mNAP   \n",
      "1  1-01-16 0:00                 -2,63          -1,749     -1,539  -2,526   \n",
      "2  1-01-16 0:05                 -2,64          -1,749     -1,539  -2,526   \n",
      "3  1-01-16 0:10                 -2,66          -1,749     -1,539  -2,526   \n",
      "4  1-01-16 0:15                 -2,61          -1,749     -1,539  -2,526   \n",
      "\n",
      "  last_basin_start last_basin_end last_basin_buffer rainfall_groundstation  \\\n",
      "0             mNAP           mNAP              mNAP          mm/ 5 minuten   \n",
      "1           -4,166         -3,302            -2,292                  0,000   \n",
      "2           -4,166         -3,302            -2,292                  0,000   \n",
      "3           -4,166         -3,302            -2,292                  0,000   \n",
      "4           -4,166         -3,302            -2,292                  0,000   \n",
      "\n",
      "  rainfall_radar  \n",
      "0  mm/ 5 minuten  \n",
      "1          0,000  \n",
      "2          0,000  \n",
      "3          0,000  \n",
      "4          0,000  \n"
     ]
    }
   ],
   "source": [
    "print(waternet.head())"
   ]
  },
  {
   "cell_type": "code",
   "execution_count": 7,
   "metadata": {},
   "outputs": [],
   "source": [
    "# We need to replace the comma's with dots to make sure we can read the data correctly\n",
    "waternet[\"water_pomping_station\"] = waternet[\"water_pomping_station\"].str.replace (\",\", \".\")\n",
    "waternet[\"basin_northeast\"] = waternet[\"basin_northeast\"].str.replace (\",\", \".\")\n",
    "waternet[\"basin_west\"] = waternet[\"basin_west\"].str.replace (\",\", \".\")\n",
    "waternet[\"sewer\"] = waternet[\"sewer\"].str.replace (\",\", \".\")\n",
    "waternet[\"last_basin_start\"] = waternet[\"last_basin_start\"].str.replace (\",\", \".\")\n",
    "waternet[\"last_basin_end\"] = waternet[\"last_basin_end\"].str.replace (\",\", \".\")\n",
    "waternet[\"last_basin_buffer\"] = waternet[\"last_basin_buffer\"].str.replace (\",\", \".\")\n",
    "waternet[\"rainfall_groundstation\"] = waternet[\"rainfall_groundstation\"].str.replace (\",\", \".\")\n",
    "waternet[\"rainfall_radar\"] = waternet[\"rainfall_radar\"].str.replace (\",\", \".\")"
   ]
  },
  {
   "cell_type": "code",
   "execution_count": 8,
   "metadata": {
    "scrolled": true
   },
   "outputs": [
    {
     "name": "stdout",
     "output_type": "stream",
     "text": [
      "<bound method NDFrame.describe of                   Time water_pomping_station basin_northeast basin_west  \\\n",
      "0                  NaN                  mNAP            mNAP       mNAP   \n",
      "1         1-01-16 0:00                 -2.63          -1.749     -1.539   \n",
      "2         1-01-16 0:05                 -2.64          -1.749     -1.539   \n",
      "3         1-01-16 0:10                 -2.66          -1.749     -1.539   \n",
      "4         1-01-16 0:15                 -2.61          -1.749     -1.539   \n",
      "...                ...                   ...             ...        ...   \n",
      "526172  31-12-20 23:35                 -2.48          -1.749     -1.539   \n",
      "526173  31-12-20 23:40                 -2.39          -1.749     -1.539   \n",
      "526174  31-12-20 23:45                 -2.48          -1.749     -1.539   \n",
      "526175  31-12-20 23:50                 -2.40          -1.749     -1.539   \n",
      "526176  31-12-20 23:55                 -2.49          -1.749     -1.539   \n",
      "\n",
      "         sewer last_basin_start last_basin_end last_basin_buffer  \\\n",
      "0         mNAP             mNAP           mNAP              mNAP   \n",
      "1       -2.526           -4.166         -3.302            -2.292   \n",
      "2       -2.526           -4.166         -3.302            -2.292   \n",
      "3       -2.526           -4.166         -3.302            -2.292   \n",
      "4       -2.526           -4.166         -3.302            -2.292   \n",
      "...        ...              ...            ...               ...   \n",
      "526172  -2.537           -2.038         -2.024            -2.235   \n",
      "526173  -2.537           -2.038         -2.024            -2.235   \n",
      "526174  -2.537           -2.036         -2.019            -2.235   \n",
      "526175  -2.538           -2.036         -2.018            -2.235   \n",
      "526176  -2.537           -2.037         -2.018            -2.235   \n",
      "\n",
      "       rainfall_groundstation rainfall_radar  \n",
      "0               mm/ 5 minuten  mm/ 5 minuten  \n",
      "1                       0.000          0.000  \n",
      "2                       0.000          0.000  \n",
      "3                       0.000          0.000  \n",
      "4                       0.000          0.000  \n",
      "...                       ...            ...  \n",
      "526172                  0.000          0.000  \n",
      "526173                  0.000          0.000  \n",
      "526174                  0.000          0.000  \n",
      "526175                  0.000          0.000  \n",
      "526176                  0.000          0.000  \n",
      "\n",
      "[526177 rows x 10 columns]>\n"
     ]
    }
   ],
   "source": [
    "print(waternet.describe)"
   ]
  },
  {
   "cell_type": "code",
   "execution_count": 9,
   "metadata": {
    "scrolled": true
   },
   "outputs": [
    {
     "data": {
      "text/plain": [
       "(183,)"
      ]
     },
     "execution_count": 9,
     "metadata": {},
     "output_type": "execute_result"
    }
   ],
   "source": [
    "# Explore the number of unique values in the water_pomping_station column\n",
    "waternet[\"water_pomping_station\"].unique().shape"
   ]
  },
  {
   "cell_type": "code",
   "execution_count": 10,
   "metadata": {},
   "outputs": [
    {
     "data": {
      "text/plain": [
       "<bound method NDFrame.describe of 0          mNAP\n",
       "1         -2.63\n",
       "2         -2.64\n",
       "3         -2.66\n",
       "4         -2.61\n",
       "          ...  \n",
       "526172    -2.48\n",
       "526173    -2.39\n",
       "526174    -2.48\n",
       "526175    -2.40\n",
       "526176    -2.49\n",
       "Name: water_pomping_station, Length: 526177, dtype: object>"
      ]
     },
     "execution_count": 10,
     "metadata": {},
     "output_type": "execute_result"
    }
   ],
   "source": [
    "# Explore the count, mininimum, maximum, median, mean, etc. in the water_pomping_station column\n",
    "\n",
    "waternet[\"water_pomping_station\"].describe"
   ]
  },
  {
   "cell_type": "markdown",
   "metadata": {},
   "source": [
    "183 unique values seems pretty good, indicating enough variation at the source of our sewer system"
   ]
  },
  {
   "cell_type": "code",
   "execution_count": 11,
   "metadata": {},
   "outputs": [
    {
     "data": {
      "text/plain": [
       "(381,)"
      ]
     },
     "execution_count": 11,
     "metadata": {},
     "output_type": "execute_result"
    }
   ],
   "source": [
    "# Now lets explore the number of unique values in the basin_norhteast column\n",
    "\n",
    "waternet[\"basin_northeast\"].unique().shape"
   ]
  },
  {
   "cell_type": "markdown",
   "metadata": {},
   "source": [
    "Also looks pretty good. Like someting is happening there at least."
   ]
  },
  {
   "cell_type": "code",
   "execution_count": 12,
   "metadata": {},
   "outputs": [
    {
     "data": {
      "text/plain": [
       "(307,)"
      ]
     },
     "execution_count": 12,
     "metadata": {},
     "output_type": "execute_result"
    }
   ],
   "source": [
    "# Lets do the same for the number of unique values in the basin_west column\n",
    "\n",
    "waternet[\"basin_west\"].unique().shape"
   ]
  },
  {
   "cell_type": "markdown",
   "metadata": {},
   "source": [
    "Same applies to this basin as well"
   ]
  },
  {
   "cell_type": "code",
   "execution_count": 13,
   "metadata": {},
   "outputs": [
    {
     "data": {
      "text/plain": [
       "(1174,)"
      ]
     },
     "execution_count": 13,
     "metadata": {},
     "output_type": "execute_result"
    }
   ],
   "source": [
    "# Lets do the same for the number of unique values in the sewer column\n",
    "\n",
    "waternet[\"sewer\"].unique().shape"
   ]
  },
  {
   "cell_type": "code",
   "execution_count": 14,
   "metadata": {},
   "outputs": [
    {
     "data": {
      "text/plain": [
       "(2029,)"
      ]
     },
     "execution_count": 14,
     "metadata": {},
     "output_type": "execute_result"
    }
   ],
   "source": [
    "# Lets do the same for the number of unique values in the last_basin_start column\n",
    "\n",
    "waternet[\"last_basin_start\"].unique().shape"
   ]
  },
  {
   "cell_type": "code",
   "execution_count": 15,
   "metadata": {},
   "outputs": [
    {
     "data": {
      "text/plain": [
       "(985,)"
      ]
     },
     "execution_count": 15,
     "metadata": {},
     "output_type": "execute_result"
    }
   ],
   "source": [
    "# Lets do the same for the number of unique values in the last_basin_end column\n",
    "\n",
    "waternet[\"last_basin_buffer\"].unique().shape"
   ]
  },
  {
   "cell_type": "code",
   "execution_count": 16,
   "metadata": {},
   "outputs": [
    {
     "data": {
      "text/plain": [
       "(62,)"
      ]
     },
     "execution_count": 16,
     "metadata": {},
     "output_type": "execute_result"
    }
   ],
   "source": [
    "# Lets do the same for the number of unique values in the rainfall_groundstation column\n",
    "\n",
    "waternet[\"rainfall_groundstation\"].unique().shape"
   ]
  },
  {
   "cell_type": "code",
   "execution_count": 17,
   "metadata": {},
   "outputs": [
    {
     "data": {
      "text/plain": [
       "(198,)"
      ]
     },
     "execution_count": 17,
     "metadata": {},
     "output_type": "execute_result"
    }
   ],
   "source": [
    "# Lets do the same for the number of unique values in the rainfall_radar column\n",
    "\n",
    "waternet[\"rainfall_radar\"].unique().shape"
   ]
  },
  {
   "cell_type": "code",
   "execution_count": 18,
   "metadata": {
    "scrolled": true
   },
   "outputs": [
    {
     "ename": "NameError",
     "evalue": "name 'missingno' is not defined",
     "output_type": "error",
     "traceback": [
      "\u001b[0;31m---------------------------------------------------------------------------\u001b[0m",
      "\u001b[0;31mNameError\u001b[0m                                 Traceback (most recent call last)",
      "\u001b[0;32m<ipython-input-18-9cf6578f497c>\u001b[0m in \u001b[0;36m<module>\u001b[0;34m\u001b[0m\n\u001b[0;32m----> 1\u001b[0;31m \u001b[0mmissingno\u001b[0m\u001b[0;34m.\u001b[0m\u001b[0mmatrix\u001b[0m\u001b[0;34m(\u001b[0m\u001b[0mwaternet\u001b[0m\u001b[0;34m)\u001b[0m\u001b[0;34m\u001b[0m\u001b[0;34m\u001b[0m\u001b[0m\n\u001b[0m",
      "\u001b[0;31mNameError\u001b[0m: name 'missingno' is not defined"
     ]
    }
   ],
   "source": [
    "missingno.matrix(waternet)"
   ]
  },
  {
   "cell_type": "code",
   "execution_count": 19,
   "metadata": {},
   "outputs": [
    {
     "data": {
      "text/plain": [
       "0         1\n",
       "1         0\n",
       "2         0\n",
       "3         0\n",
       "4         0\n",
       "         ..\n",
       "526172    0\n",
       "526173    0\n",
       "526174    0\n",
       "526175    0\n",
       "526176    0\n",
       "Length: 526177, dtype: int64"
      ]
     },
     "execution_count": 19,
     "metadata": {},
     "output_type": "execute_result"
    }
   ],
   "source": [
    "waternet.isnull().sum(axis=1)"
   ]
  },
  {
   "cell_type": "code",
   "execution_count": 1,
   "metadata": {},
   "outputs": [],
   "source": [
    "# You see here that the number of missing values in the columns is none"
   ]
  },
  {
   "cell_type": "code",
   "execution_count": null,
   "metadata": {},
   "outputs": [],
   "source": []
  }
 ],
 "metadata": {
  "kernelspec": {
   "display_name": "Python 3",
   "language": "python",
   "name": "python3"
  },
  "language_info": {
   "codemirror_mode": {
    "name": "ipython",
    "version": 3
   },
   "file_extension": ".py",
   "mimetype": "text/x-python",
   "name": "python",
   "nbconvert_exporter": "python",
   "pygments_lexer": "ipython3",
   "version": "3.7.6"
  }
 },
 "nbformat": 4,
 "nbformat_minor": 4
}
