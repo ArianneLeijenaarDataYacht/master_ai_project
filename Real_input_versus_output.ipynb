{
 "cells": [
  {
   "cell_type": "code",
   "execution_count": 3,
   "metadata": {},
   "outputs": [],
   "source": [
    "# prepare data for lstm\n",
    "from pandas import read_pickle\n",
    "from math import sqrt\n",
    "from numpy import concatenate\n",
    "from matplotlib import pyplot\n",
    "from pandas import read_csv\n",
    "from pandas import DataFrame\n",
    "from pandas import concat \n",
    "from sklearn.preprocessing import LabelEncoder\n",
    "from sklearn.metrics import mean_squared_error\n",
    "from tensorflow.keras.layers import Dense\n",
    "from tensorflow.keras.layers import LSTM\n",
    "import numpy as np\n",
    "\n",
    "import matplotlib.pyplot as plt"
   ]
  },
  {
   "cell_type": "code",
   "execution_count": 16,
   "metadata": {},
   "outputs": [],
   "source": [
    "def series_to_supervised(data, n_in=1, dropna=True):\n",
    "    \"\"\" Frame a time series as a supervised learning dataset.\n",
    "    Arguments:\n",
    "        Data: Sequence of oberservation as a list or NumPy array.\n",
    "        n_in: Number of lag oberservation as input (X).\n",
    "        n_out: Number of observations as output(y).\n",
    "        dropna: Boolean whether or not to drop rows with NaN values.\n",
    "    Returns:\n",
    "        Pandas DataFrame of series frames for supervised learning.\n",
    "    \"\"\"\n",
    "\n",
    "    n_vars = 1 if type(data) is list else data.shape[1]\n",
    "    df = DataFrame(data)\n",
    "    cols, names = list(), list()\n",
    "\n",
    "    # Input sequence (t-n, ... t-1)\n",
    "    for i in range (n_in, 0, -1):\n",
    "        cols.append(df.shift(i))\n",
    "        names += [('var%d(t-%d)' % (j+1, i)) for j in range(n_vars)]\n",
    "    \n",
    "\n",
    "    # forecast sequence (t, t+1, ... t+n)\n",
    "    for i in range (0, n_out):\n",
    "        cols,aooend(df.shift(-i))\n",
    "        if i == 0:\n",
    "            name += [('var%d(t)' % (j+1)) for j in range(n_vars)]\n",
    "        else:\n",
    "            names += [('var%d(t+%d)' % (j+1, i)) for j in range(n_vars)]\n",
    "\n",
    "# put it all together\n",
    "    agg = concat(cols, axis=1)\n",
    "    agg.columns = names\n",
    "\n",
    "# drop rows with NaN values\n",
    "    if dropnan:\n",
    "        agg.dropna(inplace=True)\n",
    "    return agg"
   ]
  },
  {
   "cell_type": "code",
   "execution_count": 17,
   "metadata": {},
   "outputs": [
    {
     "name": "stdout",
     "output_type": "stream",
     "text": [
      "===============================================\n",
      "data read\n",
      "                 Neerslag Buikslotermeerplein (radar Hydronet)  BBB riool\n",
      "           Tijd                                                          \n",
      "2016-01-02 9                                              0.00     -2.526\n",
      "           10                                             0.00     -2.526\n",
      "           11                                             0.00     -2.526\n",
      "           12                                             0.00     -2.526\n",
      "           13                                             0.00     -2.526\n",
      "           14                                             0.00     -2.526\n",
      "           15                                             0.00     -2.526\n",
      "           16                                             0.24     -2.526\n",
      "           17                                             0.21     -2.526\n",
      "           18                                             0.16     -2.526\n",
      "           19                                             0.00     -2.526\n",
      "           20                                             0.05     -2.526\n",
      "           21                                             0.18     -2.526\n",
      "           22                                             0.22     -2.526\n",
      "           23                                             0.00     -2.526\n",
      "2016-01-03 0                                              0.11     -2.526\n",
      "           1                                              0.18     -2.526\n",
      "           2                                              0.06     -2.526\n",
      "           3                                              0.00     -2.526\n",
      "           4                                              0.00     -2.526\n"
     ]
    }
   ],
   "source": [
    "# load dataset \n",
    "dataset = read_pickle(\"TRAIN LSTM Pickle Hourly.pkl\")\n",
    "dataset = dataset.drop(\"Neerslag Appelweg (radar Hydronet)\", axis =1)\n",
    "dataset = dataset.drop(\"Overstort 624 (-1,00)\", axis=1)\n",
    "dataset = dataset.drop(\"Overstort 623 (-1,10)\", axis=1)\n",
    "print (\"===============================================\\ndata read\")\n",
    "print(dataset[0:20])"
   ]
  },
  {
   "cell_type": "code",
   "execution_count": 18,
   "metadata": {},
   "outputs": [
    {
     "name": "stdout",
     "output_type": "stream",
     "text": [
      "=====================================\n",
      "values as float32\n",
      "[[ 0.    -2.526]\n",
      " [ 0.    -2.526]\n",
      " [ 0.    -2.526]\n",
      " [ 0.    -2.526]\n",
      " [ 0.    -2.526]\n",
      " [ 0.    -2.526]\n",
      " [ 0.    -2.526]\n",
      " [ 0.24  -2.526]\n",
      " [ 0.21  -2.526]\n",
      " [ 0.16  -2.526]\n",
      " [ 0.    -2.526]\n",
      " [ 0.05  -2.526]\n",
      " [ 0.18  -2.526]\n",
      " [ 0.22  -2.526]\n",
      " [ 0.    -2.526]\n",
      " [ 0.11  -2.526]\n",
      " [ 0.18  -2.526]\n",
      " [ 0.06  -2.526]\n",
      " [ 0.    -2.526]\n",
      " [ 0.    -2.526]]\n"
     ]
    }
   ],
   "source": [
    "values = dataset.values\n",
    "# ensure all data is float\n",
    "values = values.astype('float32')\n",
    "print(\"=====================================\\nvalues as float32\")\n",
    "print(values[0:20])"
   ]
  },
  {
   "cell_type": "code",
   "execution_count": 19,
   "metadata": {},
   "outputs": [],
   "source": [
    "# split into input and outputs\n",
    "values_X, values_y = values[:, :-1], values[:, -1]"
   ]
  },
  {
   "cell_type": "code",
   "execution_count": 20,
   "metadata": {},
   "outputs": [
    {
     "name": "stdout",
     "output_type": "stream",
     "text": [
      "======================================\n",
      "values X:\n",
      "[[0.  ]\n",
      " [0.  ]\n",
      " [0.  ]\n",
      " [0.  ]\n",
      " [0.  ]\n",
      " [0.  ]\n",
      " [0.  ]\n",
      " [0.24]\n",
      " [0.21]\n",
      " [0.16]\n",
      " [0.  ]\n",
      " [0.05]\n",
      " [0.18]\n",
      " [0.22]\n",
      " [0.  ]\n",
      " [0.11]\n",
      " [0.18]\n",
      " [0.06]\n",
      " [0.  ]\n",
      " [0.  ]]\n"
     ]
    }
   ],
   "source": [
    "print(\"======================================\\nvalues X:\")\n",
    "print(values_X[0:20])"
   ]
  },
  {
   "cell_type": "code",
   "execution_count": 21,
   "metadata": {},
   "outputs": [
    {
     "name": "stdout",
     "output_type": "stream",
     "text": [
      "========================\u000b",
      "nvalues y:\n",
      "[-2.526 -2.526 -2.526 -2.526 -2.526 -2.526 -2.526 -2.526 -2.526 -2.526\n",
      " -2.526 -2.526 -2.526 -2.526 -2.526 -2.526 -2.526 -2.526 -2.526 -2.526]\n"
     ]
    }
   ],
   "source": [
    "print(\"========================\\vnvalues y:\")\n",
    "print(values_y[:20])"
   ]
  },
  {
   "cell_type": "code",
   "execution_count": 22,
   "metadata": {},
   "outputs": [
    {
     "data": {
      "image/png": "[encoded data removed]",
      "text/plain": [
       "<Figure size 432x288 with 1 Axes>"
      ]
     },
     "metadata": {
      "needs_background": "light"
     },
     "output_type": "display_data"
    }
   ],
   "source": [
    "plt.plot(values_X, alpha=1)\n",
    "plt.plot(values_y, alpha=0.7)\n",
    "plt.show()"
   ]
  }
 ],
 "metadata": {
  "kernelspec": {
   "display_name": "Python 3",
   "language": "python",
   "name": "python3"
  },
  "language_info": {
   "codemirror_mode": {
    "name": "ipython",
    "version": 3
   },
   "file_extension": ".py",
   "mimetype": "text/x-python",
   "name": "python",
   "nbconvert_exporter": "python",
   "pygments_lexer": "ipython3",
   "version": "3.8.5"
  }
 },
 "nbformat": 4,
 "nbformat_minor": 4
}
